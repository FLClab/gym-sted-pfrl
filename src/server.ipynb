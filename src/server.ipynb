{
 "cells": [
  {
   "cell_type": "code",
   "execution_count": 39,
   "id": "c701eeea",
   "metadata": {},
   "outputs": [],
   "source": [
    "import numpy\n",
    "import os, glob\n",
    "import ipywidgets\n",
    "import pandas\n",
    "\n",
    "from matplotlib import pyplot\n",
    "from IPython.display import display, clear_output\n",
    "\n",
    "PATH = \"../data\"\n",
    "\n",
    "def get_files():\n",
    "    \"\"\"\n",
    "    Returns a `list` of possible folders\n",
    "    \n",
    "    :returns : A `list` of folder names\n",
    "    \"\"\"\n",
    "    files = []\n",
    "    for obj in os.listdir(PATH):\n",
    "        if (\"debug\" in obj) or (\"backup\" in obj):\n",
    "            continue\n",
    "        if os.path.isdir(os.path.join(PATH, obj)):\n",
    "            files.append(obj)    \n",
    "    return files\n",
    "\n",
    "def sliding_window(x, kernel_size):\n",
    "    \"\"\"\n",
    "    Computes a sliding window average over the specified data\n",
    "    \n",
    "    :param x: A `numpy.ndarray` of the data\n",
    "    :param kernel_size: An `int` of the size of the sliding window\n",
    "    \n",
    "    :returns : A `numpy.ndarray` of the averaged data\n",
    "    \"\"\"\n",
    "    if kernel_size < 2:\n",
    "        return x\n",
    "    window = windows.boxcar(kernel_size)\n",
    "    window = window / window.sum()\n",
    "    _x = numpy.pad(x, (kernel_size, kernel_size), mode=\"edge\")\n",
    "    return numpy.convolve(_x, window, mode=\"same\")[kernel_size : -kernel_size]\n",
    "\n",
    "def plot_score(df, x, y, shade_keys=None, smooth=1):\n",
    "    \"\"\"\n",
    "    Plots the scores from a `pandas.DataFrame` using the provided \n",
    "    key\n",
    "    \n",
    "    :param df: A `pandas.DataFrame`\n",
    "    :param key: A `str` of the desired key\n",
    "    :param shade_keys: A `list` of keys to use as shade\n",
    "    :param xlabel:\n",
    "    \n",
    "    :returns : A `matplotlib.Figure` of the created plot\n",
    "               A `matplotlib.Axes` of the create plot\n",
    "    \"\"\"\n",
    "    fig, ax = pyplot.subplots(figsize=(5,5))\n",
    "    lines = ax.plot(df[x], sliding_window(df[y], smooth))\n",
    "    if isinstance(shade_keys, (tuple, list)):\n",
    "        ax.fill_between(\n",
    "            df[x], \n",
    "            sliding_window(df[y] - df[shade_keys[0]], smooth), \n",
    "            sliding_window(df[y] + df[shade_keys[1]], smooth), \n",
    "            alpha=0.3\n",
    "        )\n",
    "    elif isinstance(shade_keys, str):\n",
    "        ax.fill_between(\n",
    "            df[x], \n",
    "            sliding_window(df[y] - df[shade_keys], smooth), \n",
    "            sliding_window(df[y] + df[shade_keys], smooth), \n",
    "            alpha=0.3\n",
    "        )\n",
    "    ax.set(\n",
    "        xlabel=x, ylabel=y\n",
    "    )\n",
    "    return fig, ax\n",
    "\n",
    "def update_figure(model_name):\n",
    "    \"\"\"\n",
    "    Updates the figure\n",
    "    \"\"\"\n",
    "    smoothing_factor = 0\n",
    "    if not os.path.isfile(os.path.join(PATH, model_name, \"scores.txt\")):\n",
    "        print(f\"`{model_name}` does not contain any scores...\")\n",
    "        return \n",
    "    # If contains backup we read all data points\n",
    "    files = glob.glob(os.path.join(PATH, model_name + \"*\"))\n",
    "    dfs, last_step = [], 0\n",
    "    for file in files:\n",
    "        df = pandas.read_csv(os.path.join(file, \"scores.txt\"), sep=\"\\t\")\n",
    "        df[\"steps\"] += last_step\n",
    "        last_step = max(df[\"steps\"])\n",
    "        dfs.append(df)\n",
    "        if \"backup\" not in file:\n",
    "            print(df[\"steps\"].max())\n",
    "    df = pandas.concat(dfs)\n",
    "    if df.empty:\n",
    "        print(f\"`{model_name}` does not contain any scores...\")\n",
    "        return \n",
    "    fig, ax = plot_score(df, \"steps\", \"mean\", shade_keys=\"stdev\", smooth=smoothing_factor) "
   ]
  },
  {
   "cell_type": "code",
   "execution_count": 40,
   "id": "ff8a87a3",
   "metadata": {},
   "outputs": [
    {
     "data": {
      "application/vnd.jupyter.widget-view+json": {
       "model_id": "dd9866269a8c4c238174f1b31b2148ff",
       "version_major": 2,
       "version_minor": 0
      },
      "text/plain": [
       "Dropdown(index=140, options=('20210716-082307', '20210716-082404', '20210719-105620', '20210719-162126', '2021…"
      ]
     },
     "metadata": {},
     "output_type": "display_data"
    },
    {
     "name": "stdout",
     "output_type": "stream",
     "text": [
      "300000\n"
     ]
    },
    {
     "data": {
      "image/png": "[encoded data removed]",
      "text/plain": [
       "<Figure size 360x360 with 1 Axes>"
      ]
     },
     "metadata": {
      "needs_background": "light"
     },
     "output_type": "display_data"
    }
   ],
   "source": [
    "def on_dropdown_change_callback(change):\n",
    "    \"\"\"\n",
    "    Handles the dropdown change\n",
    "    \n",
    "    :param change: A `dict` about the change event\n",
    "    \"\"\"\n",
    "    if change[\"type\"] == \"change\" and change[\"name\"] == \"value\":\n",
    "        # Clears the current output\n",
    "        clear_output()\n",
    "        # Re-display the widget\n",
    "        display(dropdown)\n",
    "        # Update the figure\n",
    "        update_figure(change[\"new\"])\n",
    "    \n",
    "dropdown = ipywidgets.Dropdown(\n",
    "    options=sorted(get_files())\n",
    ")\n",
    "dropdown.observe(on_dropdown_change_callback)\n",
    "display(dropdown)\n",
    "# Updates the plot with current value\n",
    "update_figure(dropdown.value)"
   ]
  },
  {
   "cell_type": "code",
   "execution_count": null,
   "id": "3bcb98ef",
   "metadata": {},
   "outputs": [],
   "source": []
  },
  {
   "cell_type": "code",
   "execution_count": null,
   "id": "6075dfbb",
   "metadata": {},
   "outputs": [],
   "source": []
  },
  {
   "cell_type": "code",
   "execution_count": null,
   "id": "a43dd4b3",
   "metadata": {},
   "outputs": [],
   "source": []
  }
 ],
 "metadata": {
  "kernelspec": {
   "display_name": "Python 3",
   "language": "python",
   "name": "python3"
  },
  "language_info": {
   "codemirror_mode": {
    "name": "ipython",
    "version": 3
   },
   "file_extension": ".py",
   "mimetype": "text/x-python",
   "name": "python",
   "nbconvert_exporter": "python",
   "pygments_lexer": "ipython3",
   "version": "3.8.3"
  }
 },
 "nbformat": 4,
 "nbformat_minor": 5
}
